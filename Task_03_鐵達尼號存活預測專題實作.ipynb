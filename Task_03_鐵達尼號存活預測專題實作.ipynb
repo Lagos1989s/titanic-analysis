{
  "nbformat": 4,
  "nbformat_minor": 0,
  "metadata": {
    "colab": {
      "provenance": [],
      "authorship_tag": "ABX9TyN99CGXwJn4OqOgxeOcQvk+",
      "include_colab_link": true
    },
    "kernelspec": {
      "name": "python3",
      "display_name": "Python 3"
    },
    "language_info": {
      "name": "python"
    }
  },
  "cells": [
    {
      "cell_type": "markdown",
      "metadata": {
        "id": "view-in-github",
        "colab_type": "text"
      },
      "source": [
        "<a href=\"https://colab.research.google.com/github/Lagos1989s/titanic-analysis/blob/main/Task_03_%E9%90%B5%E9%81%94%E5%B0%BC%E8%99%9F%E5%AD%98%E6%B4%BB%E9%A0%90%E6%B8%AC%E5%B0%88%E9%A1%8C%E5%AF%A6%E4%BD%9C.ipynb\" target=\"_parent\"><img src=\"https://colab.research.google.com/assets/colab-badge.svg\" alt=\"Open In Colab\"/></a>"
      ]
    },
    {
      "cell_type": "code",
      "execution_count": 8,
      "metadata": {
        "id": "2v749YAiHvqw"
      },
      "outputs": [],
      "source": [
        "import pandas as pd\n",
        "import numpy as np\n",
        "\n",
        "df = pd.read_csv('https://raw.githubusercontent.com/dsindy/kaggle-titanic/master/data/train.csv')"
      ]
    },
    {
      "cell_type": "code",
      "source": [
        "# 1. 在資料分析的工作流程中，在不考慮準確度情況下有哪些必備的環節?\n",
        "\n",
        "# i.   確認每個資料欄位的定義，觀察欄位與欄位之間的關係。\n",
        "# ii.  確認每個欄位的資料格式、以及是否有遺漏值。\n",
        "# iii. 根據已知的資訊以及依據欄位之間的關係，盡可能地將遺漏值補回。\n",
        "# iv.  依據類別欄位的特性，分別進行Label Encoding或是One-hot Encoding處理。\n",
        "# v.   確認是否還有其他欄位是模型無法讀取的，再另外找出處理的方法。"
      ],
      "metadata": {
        "id": "ppqFiPkPt4nv"
      },
      "execution_count": 49,
      "outputs": []
    },
    {
      "cell_type": "code",
      "source": [
        "# Titanic 資料欄位定義\n",
        "\n",
        "# PassengerId: 乘客編號\n",
        "# survival:    是否生存，0:死亡 1:生存。\n",
        "# pclass:      社會經濟地位替代指標，1:高 2:中 3:低。\n",
        "# sex:         性別。\n",
        "# Age:         年齡。\n",
        "# sibsp:       在鐵達尼號上兄弟姊妹或配偶的數量。\n",
        "# parch:       在鐵達尼號上父母或小孩的數量。\n",
        "# ticket:      船票編號。\n",
        "# fare:        乘客票價。\n",
        "# cabin:       艙位編號。\n",
        "# embarked:    登船港口, C = Cherbourg, Q = Queenstown, S = Southampton。"
      ],
      "metadata": {
        "id": "a-TlNT54XsEs"
      },
      "execution_count": 48,
      "outputs": []
    },
    {
      "cell_type": "code",
      "source": [
        "# 2. 不考慮準確度的前提下完成 Baseline ，讓已讀入的資料完成必要的資料前處理的操作。\n",
        "# 觀察資料狀況，如各欄位的統計指標、欄位的資料格式以及是否有遺漏值。\n",
        "\n",
        "print (df.describe())\n",
        "print ('\\n----------------------------------------\\n')\n",
        "print (df.info())\n",
        "print ('\\n----------------------------------------\\n')\n",
        "print (df.isnull().sum())"
      ],
      "metadata": {
        "colab": {
          "base_uri": "https://localhost:8080/"
        },
        "id": "tCbciS09H8L0",
        "outputId": "0a1013e7-1e0e-40a4-ad43-50c7a090458a"
      },
      "execution_count": 9,
      "outputs": [
        {
          "output_type": "stream",
          "name": "stdout",
          "text": [
            "       PassengerId    Survived      Pclass         Age       SibSp  \\\n",
            "count   891.000000  891.000000  891.000000  714.000000  891.000000   \n",
            "mean    446.000000    0.383838    2.308642   29.699118    0.523008   \n",
            "std     257.353842    0.486592    0.836071   14.526497    1.102743   \n",
            "min       1.000000    0.000000    1.000000    0.420000    0.000000   \n",
            "25%     223.500000    0.000000    2.000000   20.125000    0.000000   \n",
            "50%     446.000000    0.000000    3.000000   28.000000    0.000000   \n",
            "75%     668.500000    1.000000    3.000000   38.000000    1.000000   \n",
            "max     891.000000    1.000000    3.000000   80.000000    8.000000   \n",
            "\n",
            "            Parch        Fare  \n",
            "count  891.000000  891.000000  \n",
            "mean     0.381594   32.204208  \n",
            "std      0.806057   49.693429  \n",
            "min      0.000000    0.000000  \n",
            "25%      0.000000    7.910400  \n",
            "50%      0.000000   14.454200  \n",
            "75%      0.000000   31.000000  \n",
            "max      6.000000  512.329200  \n",
            "\n",
            "----------------------------------------\n",
            "\n",
            "<class 'pandas.core.frame.DataFrame'>\n",
            "RangeIndex: 891 entries, 0 to 890\n",
            "Data columns (total 12 columns):\n",
            " #   Column       Non-Null Count  Dtype  \n",
            "---  ------       --------------  -----  \n",
            " 0   PassengerId  891 non-null    int64  \n",
            " 1   Survived     891 non-null    int64  \n",
            " 2   Pclass       891 non-null    int64  \n",
            " 3   Name         891 non-null    object \n",
            " 4   Sex          891 non-null    object \n",
            " 5   Age          714 non-null    float64\n",
            " 6   SibSp        891 non-null    int64  \n",
            " 7   Parch        891 non-null    int64  \n",
            " 8   Ticket       891 non-null    object \n",
            " 9   Fare         891 non-null    float64\n",
            " 10  Cabin        204 non-null    object \n",
            " 11  Embarked     889 non-null    object \n",
            "dtypes: float64(2), int64(5), object(5)\n",
            "memory usage: 83.7+ KB\n",
            "None\n",
            "\n",
            "----------------------------------------\n",
            "\n",
            "PassengerId      0\n",
            "Survived         0\n",
            "Pclass           0\n",
            "Name             0\n",
            "Sex              0\n",
            "Age            177\n",
            "SibSp            0\n",
            "Parch            0\n",
            "Ticket           0\n",
            "Fare             0\n",
            "Cabin          687\n",
            "Embarked         2\n",
            "dtype: int64\n"
          ]
        }
      ]
    },
    {
      "cell_type": "code",
      "source": [
        "# Age、Cabin、Embarked的遺漏值處理\n",
        "\n",
        "# 以不同性別的平均年齡補回年齡遺漏值。\n",
        "# Age\n",
        "df['Age'].fillna(value=df.groupby('Sex')['Age'].transform('mean'), inplace=True)\n",
        "\n",
        "# Embarked\n",
        "# 將Embarked轉為數值後，以眾數S補回。\n",
        "print (df['Embarked'].mode())\n",
        "df['Embarked'].replace(np.nan, 'S', inplace=True)\n",
        "\n",
        "# Cabin\n",
        "# 將Cabin為Nan的值以No_Cabin標記\n",
        "df['Cabin'].replace(np.nan, 'No_Cabin', inplace=True)"
      ],
      "metadata": {
        "colab": {
          "base_uri": "https://localhost:8080/"
        },
        "id": "hMlxfyVmXQzz",
        "outputId": "a912fac0-ad88-4948-98c8-0a7fde7a8ccf"
      },
      "execution_count": 15,
      "outputs": [
        {
          "output_type": "stream",
          "name": "stdout",
          "text": [
            "0    S\n",
            "Name: Embarked, dtype: object\n"
          ]
        }
      ]
    },
    {
      "cell_type": "code",
      "source": [
        "# 將Ticket欄位分隔為Ticket_item以及Ticket_number\n",
        "def ticket_number(x):\n",
        "  return x.split(\" \")[-1]\n",
        "\n",
        "def ticket_item(x):\n",
        "  items = x.split(\" \")\n",
        "  if len(items)==1:\n",
        "    return 'None'\n",
        "  return '_'.join(items[0:-1])\n",
        "\n",
        "df['Ticket_number'] = df['Ticket'].apply(ticket_number)\n",
        "df['Ticket_item'] = df['Ticket'].apply(ticket_item)\n",
        "\n",
        "# 處理Ticket_number有非數值之資料\n",
        "# 將LINE處理為0\n",
        "df['Ticket_number'].replace('LINE', 0, inplace=True)\n",
        "df.Ticket_number = df.Ticket_number.astype('int64')"
      ],
      "metadata": {
        "id": "5SruWtNuZ4lB"
      },
      "execution_count": 41,
      "outputs": []
    },
    {
      "cell_type": "code",
      "source": [
        "from sklearn import preprocessing\n",
        "\n",
        "# 類別型的欄位編碼處理\n",
        "# 對Sex欄位進行Label Encoding\n",
        "le = preprocessing.LabelEncoder()\n",
        "df['Sex'] = le.fit_transform(df['Sex'])"
      ],
      "metadata": {
        "id": "pRxsBl3xlAT5"
      },
      "execution_count": 43,
      "outputs": []
    },
    {
      "cell_type": "code",
      "source": [
        "# 將欄位區分成已經處理好的欄位以及還需要處理的類別變數之DataFrame，處理完畢後合併。\n",
        "# 已處理完畢的欄位\n",
        "column_fin = ['Survived', 'Pclass', 'Sex', 'Age', 'SibSp', 'Parch', 'Fare', 'Ticket_number']\n",
        "column_dum = ['Cabin', 'Embarked', 'Ticket_item']\n",
        "\n",
        "# 針對類別型的欄位進行One-hot Encoding\n",
        "df_fin = df[column_fin]\n",
        "df_dum = pd.get_dummies(df[column_dum])\n",
        "\n",
        "# 將兩個處理好的DataFrame合併\n",
        "df_train = pd.concat([df_fin, df_dum], axis=1)"
      ],
      "metadata": {
        "id": "ORo2E3_zXdKz"
      },
      "execution_count": 44,
      "outputs": []
    },
    {
      "cell_type": "code",
      "source": [
        "columns_X = set(df_train.columns) - {'Survived'}\n",
        "columns_y = ['Survived']\n",
        "\n",
        "train_X = df_train[columns_X]\n",
        "train_y = df_train[columns_y]\n",
        "\n",
        "from sklearn.linear_model import LogisticRegression\n",
        "from sklearn.model_selection import cross_val_score\n",
        "\n",
        "log = LogisticRegression(random_state=0, max_iter=3000)\n",
        "scores = cross_val_score(log, train_X, train_y.values.ravel(), cv=5, scoring='accuracy')\n",
        "print(scores)"
      ],
      "metadata": {
        "colab": {
          "base_uri": "https://localhost:8080/"
        },
        "id": "V8YX7ZG_H8ns",
        "outputId": "42aebbd9-78ff-4ecc-fe1f-a49aeb9def41"
      },
      "execution_count": 46,
      "outputs": [
        {
          "output_type": "stream",
          "name": "stdout",
          "text": [
            "[0.60893855 0.61797753 0.6741573  0.61797753 0.61235955]\n"
          ]
        },
        {
          "output_type": "stream",
          "name": "stderr",
          "text": [
            "<ipython-input-46-2e2101e53858>:4: FutureWarning: Passing a set as an indexer is deprecated and will raise in a future version. Use a list instead.\n",
            "  train_X = df_train[columns_X]\n"
          ]
        }
      ]
    }
  ]
}